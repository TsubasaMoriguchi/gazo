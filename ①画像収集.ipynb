{
  "nbformat": 4,
  "nbformat_minor": 0,
  "metadata": {
    "colab": {
      "name": "画像収集.ipynb",
      "provenance": [],
      "mount_file_id": "1gOJw4xwSBt6sdgHzT6NdRhmC8AFtTMiE",
      "authorship_tag": "ABX9TyNGOlxQfscnVcBIGujiNExZ",
      "include_colab_link": true
    },
    "kernelspec": {
      "name": "python3",
      "display_name": "Python 3"
    }
  },
  "cells": [
    {
      "cell_type": "markdown",
      "metadata": {
        "id": "view-in-github",
        "colab_type": "text"
      },
      "source": [
        "<a href=\"https://colab.research.google.com/github/TsubasaMoriguchi/gazo/blob/master/%E7%94%BB%E5%83%8F%E5%8F%8E%E9%9B%86.ipynb\" target=\"_parent\"><img src=\"https://colab.research.google.com/assets/colab-badge.svg\" alt=\"Open In Colab\"/></a>"
      ]
    },
    {
      "cell_type": "code",
      "metadata": {
        "id": "wogG58l0Vbv3",
        "colab_type": "code",
        "colab": {
          "base_uri": "https://localhost:8080/",
          "height": 264
        },
        "outputId": "b9281167-e2e9-45da-807f-e22bd31c0467"
      },
      "source": [
        "!pip install icrawler"
      ],
      "execution_count": 8,
      "outputs": [
        {
          "output_type": "stream",
          "text": [
            "Collecting icrawler\n",
            "  Downloading https://files.pythonhosted.org/packages/89/de/71d154b1fe181ee1a4afae5d10451856ef4689b3fd72d93cc55f31d2886a/icrawler-0.6.3-py2.py3-none-any.whl\n",
            "Requirement already satisfied: six>=1.10.0 in /usr/local/lib/python3.6/dist-packages (from icrawler) (1.15.0)\n",
            "Requirement already satisfied: Pillow in /usr/local/lib/python3.6/dist-packages (from icrawler) (7.0.0)\n",
            "Requirement already satisfied: beautifulsoup4>=4.4.1 in /usr/local/lib/python3.6/dist-packages (from icrawler) (4.6.3)\n",
            "Requirement already satisfied: lxml in /usr/local/lib/python3.6/dist-packages (from icrawler) (4.2.6)\n",
            "Requirement already satisfied: requests>=2.9.1 in /usr/local/lib/python3.6/dist-packages (from icrawler) (2.23.0)\n",
            "Requirement already satisfied: certifi>=2017.4.17 in /usr/local/lib/python3.6/dist-packages (from requests>=2.9.1->icrawler) (2020.6.20)\n",
            "Requirement already satisfied: urllib3!=1.25.0,!=1.25.1,<1.26,>=1.21.1 in /usr/local/lib/python3.6/dist-packages (from requests>=2.9.1->icrawler) (1.24.3)\n",
            "Requirement already satisfied: idna<3,>=2.5 in /usr/local/lib/python3.6/dist-packages (from requests>=2.9.1->icrawler) (2.10)\n",
            "Requirement already satisfied: chardet<4,>=3.0.2 in /usr/local/lib/python3.6/dist-packages (from requests>=2.9.1->icrawler) (3.0.4)\n",
            "Installing collected packages: icrawler\n",
            "Successfully installed icrawler-0.6.3\n"
          ],
          "name": "stdout"
        }
      ]
    },
    {
      "cell_type": "code",
      "metadata": {
        "id": "W25J0gZpVjY7",
        "colab_type": "code",
        "colab": {
          "base_uri": "https://localhost:8080/",
          "height": 52
        },
        "outputId": "69560d58-f10a-4c61-abb3-38782e4d0074"
      },
      "source": [
        "\n",
        "# 画像を保存するフォルダに移動\n",
        "# pathは適宜変える\n",
        "%cd drive/My Drive/gazo/original_data\n",
        "!pwd"
      ],
      "execution_count": 9,
      "outputs": [
        {
          "output_type": "stream",
          "text": [
            "/content/drive/My Drive/gazo/original_data\n",
            "/content/drive/My Drive/gazo/original_data\n"
          ],
          "name": "stdout"
        }
      ]
    },
    {
      "cell_type": "code",
      "metadata": {
        "id": "b6shm7NzWxmX",
        "colab_type": "code",
        "colab": {}
      },
      "source": [
        ""
      ],
      "execution_count": null,
      "outputs": []
    },
    {
      "cell_type": "code",
      "metadata": {
        "id": "zSDaL6JlWxo3",
        "colab_type": "code",
        "colab": {
          "base_uri": "https://localhost:8080/",
          "height": 1000
        },
        "outputId": "c0b8184a-2e8a-4d7f-99c3-b0b7646d425a"
      },
      "source": [
        "# こんな感じで書く。枚数は、max_numで指定する。\n",
        "# from icrawler.builtin import BingImageCrawler\n",
        "# crawler = BingImageCrawler(storage={\"root_dir\": \"ここと\"})\n",
        "# crawler.crawl(keyword=\"ここを変えるt\", max_num=20)\n",
        "\n",
        "from icrawler.builtin import BingImageCrawler\n",
        "crawler = BingImageCrawler(storage={\"root_dir\": \"小松菜奈\"})\n",
        "crawler.crawl(keyword=\"小松菜奈\", max_num=20)\n",
        "\n",
        "\n",
        "\n",
        "from icrawler.builtin import BingImageCrawler\n",
        "crawler = BingImageCrawler(storage={\"root_dir\": \"久保建英\"})\n",
        "crawler.crawl(keyword=\"久保建英\", max_num=20)"
      ],
      "execution_count": 10,
      "outputs": [
        {
          "output_type": "stream",
          "text": [
            "2020-08-26 06:03:00,707 - INFO - icrawler.crawler - start crawling...\n",
            "2020-08-26 06:03:00,708 - INFO - icrawler.crawler - starting 1 feeder threads...\n",
            "2020-08-26 06:03:00,711 - INFO - feeder - thread feeder-001 exit\n",
            "2020-08-26 06:03:00,711 - INFO - icrawler.crawler - starting 1 parser threads...\n",
            "2020-08-26 06:03:00,715 - INFO - icrawler.crawler - starting 1 downloader threads...\n",
            "2020-08-26 06:03:01,034 - INFO - parser - parsing result page https://www.bing.com/images/async?q=小松菜奈&first=0\n",
            "2020-08-26 06:03:02,463 - INFO - downloader - image #1\thttp://livedoor.blogimg.jp/girls_girls_girls/imgs/8/a/8aa3a334.jpg\n",
            "2020-08-26 06:03:05,062 - INFO - downloader - image #2\thttp://www.sponichi.co.jp/entertainment/news/2017/05/17/jpeg/20170517s00041000383000p_view.jpg\n",
            "2020-08-26 06:03:06,960 - INFO - downloader - image #3\thttp://ent.smt.docomo.ne.jp/wp-content/uploads/2014/06/img_komatsunana_port3_vol3.jpg\n",
            "2020-08-26 06:03:07,399 - ERROR - downloader - Response status code 404, file https://i2.wp.com/trend-geino.com/wp-content/uploads/2016/12/65f8e6f0ec15aa5135c35c18dff1a96e.jpg\n",
            "2020-08-26 06:03:08,588 - INFO - downloader - image #4\thttp://xn--zck8ci9591bzonbkq1xt.com/wp-content/uploads/2014/08/komatunana-05-ahd.jpg\n",
            "2020-08-26 06:03:10,621 - INFO - downloader - image #5\thttps://i0.wp.com/non365.com/wp-content/uploads/2016/12/koma.jpg\n",
            "2020-08-26 06:03:12,667 - INFO - downloader - image #6\thttps://i.smalljoys.me/2017/11/01-9.jpg\n",
            "2020-08-26 06:03:13,255 - INFO - downloader - image #7\thttps://static.smalljoys.me/2017/11/1-71.jpg\n",
            "2020-08-26 06:03:15,658 - INFO - downloader - image #8\thttps://img.cinematoday.jp/a/N0089095/_size_1200x/_v_1485053459/main.jpg\n",
            "2020-08-26 06:03:16,022 - INFO - downloader - image #9\thttp://static.fashionpost.jp/article/wp-content/uploads/2017/05/18003123/107e144e120776fa45d386a70d357867.jpg\n",
            "2020-08-26 06:03:17,704 - INFO - downloader - image #10\thttps://www.j-cast.com/images/2017/09/news_20170901181038.jpg\n",
            "2020-08-26 06:03:20,208 - INFO - downloader - image #11\thttps://i0.wp.com/izuru5222.net/wp-content/uploads/2018/05/tumblr_mhfbvewfh61rm3lb4o3_1280.jpg\n",
            "2020-08-26 06:03:21,652 - INFO - downloader - image #12\thttp://u-plan.info/wp-content/uploads/2015/10/tumblr_mf2odd8Rzh1qbw5qso1_1280.jpg\n",
            "2020-08-26 06:03:25,479 - INFO - downloader - image #13\thttps://rpr.c.yimg.jp/amd/20190629-00132127-roupeiro-000-12-view.jpg\n",
            "2020-08-26 06:03:26,223 - INFO - parser - no more page urls for thread parser-001 to parse\n",
            "2020-08-26 06:03:26,225 - INFO - parser - thread parser-001 exit\n",
            "2020-08-26 06:03:26,665 - INFO - downloader - image #14\thttp://image.eiga.k-img.com/images/person/275455/300x.jpg\n",
            "2020-08-26 06:03:28,555 - ERROR - downloader - Response status code 403, file https://storage.mainichikirei.jp/images/2018/12/07/20181207dog00m100019000c/001_size6.jpg\n",
            "2020-08-26 06:03:29,155 - INFO - downloader - image #15\thttps://i.pinimg.com/originals/16/c9/36/16c93629ea42afe29c2febcd5a60f11c.jpg\n",
            "2020-08-26 06:03:29,525 - INFO - downloader - image #16\thttps://img-mdpr.freetls.fastly.net/article/6R9-/hm/6R9-T8jG1dnrSaRYGqalrwx4u_IJp3JTN4glKAgxCqo.jpg\n",
            "2020-08-26 06:03:30,053 - INFO - downloader - image #17\thttps://i.pinimg.com/originals/2c/73/aa/2c73aa45e87fd4f1cbfcf24e4bd4880f.jpg\n",
            "2020-08-26 06:03:35,061 - INFO - downloader - no more download task for thread downloader-001\n",
            "2020-08-26 06:03:35,062 - INFO - downloader - thread downloader-001 exit\n",
            "2020-08-26 06:03:35,760 - INFO - icrawler.crawler - Crawling task done!\n",
            "2020-08-26 06:03:35,775 - INFO - icrawler.crawler - start crawling...\n",
            "2020-08-26 06:03:35,776 - INFO - icrawler.crawler - starting 1 feeder threads...\n",
            "2020-08-26 06:03:35,783 - INFO - feeder - thread feeder-001 exit\n",
            "2020-08-26 06:03:35,783 - INFO - icrawler.crawler - starting 1 parser threads...\n",
            "2020-08-26 06:03:35,786 - INFO - icrawler.crawler - starting 1 downloader threads...\n",
            "2020-08-26 06:03:36,104 - INFO - parser - parsing result page https://www.bing.com/images/async?q=CR7&first=0\n",
            "2020-08-26 06:03:36,164 - INFO - downloader - image #1\thttps://i.ytimg.com/vi/7nMR8mXrtdE/maxresdefault.jpg\n",
            "2020-08-26 06:03:36,180 - INFO - downloader - image #2\thttps://i.ytimg.com/vi/rtsNAzXktBw/maxresdefault.jpg\n",
            "2020-08-26 06:03:36,197 - INFO - downloader - image #3\thttps://i.ytimg.com/vi/0pGd7u8fkTU/maxresdefault.jpg\n",
            "2020-08-26 06:03:36,255 - INFO - downloader - image #4\thttps://i.pinimg.com/736x/87/1a/ca/871acaa4dbcfafb7a01e929d5141eea4--cristian-ronaldo-ronaldo-cristiano.jpg\n",
            "2020-08-26 06:03:36,450 - INFO - downloader - image #5\thttps://images.performgroup.com/di/library/GOAL/b1/6d/cristiano-ronaldo-juventus-2018-19_pg80rqcogi91wu988vrj0fz6.jpg\n",
            "2020-08-26 06:03:36,585 - INFO - downloader - image #6\thttps://specials-images.forbesimg.com/imageserve/5d2388f14c687b00085c0f91/416x416.jpg\n",
            "2020-08-26 06:03:36,599 - INFO - downloader - image #7\thttps://i.ytimg.com/vi/ilF4rpv6UbU/maxresdefault.jpg\n",
            "2020-08-26 06:03:36,614 - ERROR - downloader - Response status code 404, file https://i.ytimg.com/vi/dbL-u6Zq_Rw/maxresdefault.jpg\n",
            "2020-08-26 06:03:36,688 - INFO - downloader - image #8\thttps://i.ytimg.com/vi/0SZsLfI99JA/maxresdefault.jpg\n",
            "2020-08-26 06:03:36,716 - INFO - downloader - image #9\thttps://i.pinimg.com/originals/d0/ec/76/d0ec7660ab19681559abb0c5cae5bd32.jpg\n",
            "2020-08-26 06:03:37,221 - INFO - downloader - image #10\thttp://wadsam.com/wp-content/uploads/2015/05/ronaldo.jpg\n",
            "2020-08-26 06:03:37,236 - INFO - downloader - image #11\thttps://i.ytimg.com/vi/DLaUCCx_7ps/maxresdefault.jpg\n",
            "2020-08-26 06:03:37,249 - INFO - downloader - image #12\thttps://i.ytimg.com/vi/dbp91G9EA8U/maxresdefault.jpg\n",
            "2020-08-26 06:03:37,848 - INFO - downloader - image #13\thttps://wallpapercave.com/wp/wc3137280.jpg\n",
            "2020-08-26 06:03:37,942 - INFO - downloader - image #14\thttps://static.independent.co.uk/s3fs-public/thumbnails/image/2018/09/16/15/cristiano-ronaldo.jpg\n",
            "2020-08-26 06:03:38,043 - INFO - downloader - image #15\thttps://i.ytimg.com/vi/NK_1DdgiSOQ/maxresdefault.jpg\n",
            "2020-08-26 06:03:38,058 - INFO - downloader - image #16\thttps://i.ytimg.com/vi/WLSszfQKrFc/maxresdefault.jpg\n",
            "2020-08-26 06:03:38,111 - INFO - downloader - image #17\thttp://d.ibtimes.co.uk/en/full/1646294/cristiano-ronaldo.jpg\n",
            "2020-08-26 06:03:38,129 - INFO - downloader - image #18\thttps://i.ytimg.com/vi/PQW7RzRSSPc/maxresdefault.jpg\n",
            "2020-08-26 06:03:38,159 - INFO - downloader - image #19\thttps://i.pinimg.com/originals/94/83/d0/9483d078797431cd0a6121959627230e.jpg\n",
            "2020-08-26 06:03:38,175 - INFO - downloader - image #20\thttps://i.ytimg.com/vi/dAfJn_d8UfY/maxresdefault.jpg\n",
            "2020-08-26 06:03:38,266 - INFO - downloader - downloaded images reach max num, thread downloader-001 is ready to exit\n",
            "2020-08-26 06:03:38,267 - INFO - downloader - thread downloader-001 exit\n",
            "2020-08-26 06:03:38,797 - INFO - icrawler.crawler - Crawling task done!\n",
            "2020-08-26 06:03:38,798 - INFO - icrawler.crawler - start crawling...\n",
            "2020-08-26 06:03:38,800 - INFO - icrawler.crawler - starting 1 feeder threads...\n",
            "2020-08-26 06:03:38,801 - INFO - feeder - thread feeder-001 exit\n",
            "2020-08-26 06:03:38,801 - INFO - icrawler.crawler - starting 1 parser threads...\n",
            "2020-08-26 06:03:38,805 - INFO - icrawler.crawler - starting 1 downloader threads...\n",
            "2020-08-26 06:03:39,135 - INFO - parser - parsing result page https://www.bing.com/images/async?q=久保建英&first=0\n",
            "2020-08-26 06:03:39,183 - INFO - parser - downloaded image reached max num, thread parser-001 is ready to exit\n",
            "2020-08-26 06:03:39,184 - INFO - parser - thread parser-001 exit\n",
            "2020-08-26 06:03:39,827 - INFO - downloader - image #1\thttp://n.sinaimg.cn/sports/transform/158/w543h415/20190722/d87b-iaantfi4669513.jpg\n",
            "2020-08-26 06:03:39,855 - INFO - downloader - image #2\thttp://n.sinaimg.cn/sports/transform/303/w650h453/20190722/73cb-iaantfi4765804.jpg\n",
            "2020-08-26 06:03:42,018 - INFO - downloader - image #3\thttp://tu.duoduocdn.com/uploads/news/day_190214/201902142215199345.jpg\n",
            "2020-08-26 06:03:43,864 - INFO - downloader - image #4\thttps://media.bastillepost.com/wp-content/uploads/hongkong/2019/06/20190625_copa_america_japan_15.jpg\n",
            "2020-08-26 06:03:45,843 - INFO - downloader - image #5\thttp://a2.att.hudong.com/45/60/50200014992522154996603692100_s.jpg\n",
            "2020-08-26 06:03:45,867 - INFO - downloader - image #6\thttp://n.sinaimg.cn/sports/transform/215/w650h365/20190802/dc58-iaqfzyw1352444.jpg\n",
            "2020-08-26 06:03:46,507 - INFO - downloader - image #7\thttps://c1.hoopchina.com.cn/uploads/star/event/images/191006/005d8508e7214be234e45d2479b47b7bee2fa558.jpg\n",
            "2020-08-26 06:03:46,525 - INFO - downloader - image #8\thttp://n.sinaimg.cn/sports/transform/305/w650h455/20190614/4c07-hymscpq2649959.jpg\n",
            "2020-08-26 06:03:47,681 - INFO - downloader - image #9\thttps://n.sinaimg.cn/sports/transform/215/w650h365/20191227/d9e5-imfiehq6328539.jpg\n",
            "2020-08-26 06:03:52,696 - ERROR - downloader - Exception caught when downloading file http://tu.duoduocdn.com/uploads/day_191112/201911120941168607.jpg, error: HTTPConnectionPool(host='tu.duoduocdn.com', port=80): Read timed out. (read timeout=5), remaining retry times: 2\n",
            "2020-08-26 06:03:53,202 - INFO - downloader - image #10\thttp://tu.duoduocdn.com/uploads/day_191112/201911120941168607.jpg\n",
            "2020-08-26 06:03:55,208 - INFO - parser - no more page urls for thread parser-001 to parse\n",
            "2020-08-26 06:03:55,209 - INFO - parser - thread parser-001 exit\n",
            "2020-08-26 06:03:57,531 - INFO - downloader - image #11\thttp://i2.sinaimg.cn/ty/c/2013-08-28/U2463P6T12D6745904F44DT20130828150919.jpg\n",
            "2020-08-26 06:04:02,866 - ERROR - downloader - Exception caught when downloading file https://c2.hoopchina.com.cn/uploads/star/event/images/190214/fecc4dc75c160f9c617eb8250229ea3ae2e21d94.jpg, error: HTTPSConnectionPool(host='c2.hoopchina.com.cn', port=443): Read timed out. (read timeout=5), remaining retry times: 2\n",
            "2020-08-26 06:04:03,779 - INFO - downloader - image #12\thttps://c2.hoopchina.com.cn/uploads/star/event/images/190214/fecc4dc75c160f9c617eb8250229ea3ae2e21d94.jpg\n",
            "2020-08-26 06:04:03,804 - INFO - downloader - image #13\thttp://n.sinaimg.cn/sports/transform/237/w650h387/20190808/10d6-iaxiufn7675967.jpg\n",
            "2020-08-26 06:04:03,843 - INFO - downloader - image #14\thttp://n.sinaimg.cn/sports/transform/215/w650h365/20190701/6e4b-hzfeken4455251.jpg\n",
            "2020-08-26 06:04:05,683 - ERROR - downloader - Response status code 403, file https://gss1.bdstatic.com/-vo3dSag_xI4khGkpoWK1HF6hhy/baike/w%3D268%3Bg%3D0/sign=89b4b8be13950a7b753549c232ea05e4/b2de9c82d158ccbfa93d56b217d8bc3eb03541b1.jpg\n",
            "2020-08-26 06:04:07,018 - INFO - downloader - image #15\thttp://tu.duoduocdn.com/uploads/day_190914/201909140853575215.jpg\n",
            "2020-08-26 06:04:12,025 - INFO - downloader - no more download task for thread downloader-001\n",
            "2020-08-26 06:04:12,026 - INFO - downloader - thread downloader-001 exit\n",
            "2020-08-26 06:04:12,843 - INFO - icrawler.crawler - Crawling task done!\n"
          ],
          "name": "stderr"
        }
      ]
    },
    {
      "cell_type": "code",
      "metadata": {
        "id": "XwabkswfXuMy",
        "colab_type": "code",
        "colab": {
          "base_uri": "https://localhost:8080/",
          "height": 544
        },
        "outputId": "0f5eb8d9-419f-4b79-bc68-5f394a603c4d"
      },
      "source": [
        "from icrawler.builtin import BingImageCrawler\n",
        "crawler = BingImageCrawler(storage={\"root_dir\": \"CR7\"})\n",
        "crawler.crawl(keyword=\"CR7\", max_num=20)\n"
      ],
      "execution_count": 11,
      "outputs": [
        {
          "output_type": "stream",
          "text": [
            "2020-08-26 06:05:23,051 - INFO - icrawler.crawler - start crawling...\n",
            "2020-08-26 06:05:23,052 - INFO - icrawler.crawler - starting 1 feeder threads...\n",
            "2020-08-26 06:05:23,054 - INFO - feeder - thread feeder-001 exit\n",
            "2020-08-26 06:05:23,054 - INFO - icrawler.crawler - starting 1 parser threads...\n",
            "2020-08-26 06:05:23,057 - INFO - icrawler.crawler - starting 1 downloader threads...\n",
            "2020-08-26 06:05:23,287 - INFO - parser - parsing result page https://www.bing.com/images/async?q=CR7&first=0\n",
            "2020-08-26 06:05:23,318 - INFO - downloader - skip downloading file 000001.jpg\n",
            "2020-08-26 06:05:23,320 - INFO - downloader - skip downloading file 000002.jpg\n",
            "2020-08-26 06:05:23,321 - INFO - downloader - skip downloading file 000003.jpg\n",
            "2020-08-26 06:05:23,323 - INFO - downloader - skip downloading file 000004.jpg\n",
            "2020-08-26 06:05:23,324 - INFO - downloader - skip downloading file 000005.jpg\n",
            "2020-08-26 06:05:23,325 - INFO - downloader - skip downloading file 000006.jpg\n",
            "2020-08-26 06:05:23,326 - INFO - downloader - skip downloading file 000007.jpg\n",
            "2020-08-26 06:05:23,328 - INFO - downloader - skip downloading file 000008.jpg\n",
            "2020-08-26 06:05:23,329 - INFO - downloader - skip downloading file 000009.jpg\n",
            "2020-08-26 06:05:23,331 - INFO - downloader - skip downloading file 000010.jpg\n",
            "2020-08-26 06:05:23,332 - INFO - downloader - skip downloading file 000011.jpg\n",
            "2020-08-26 06:05:23,333 - INFO - downloader - skip downloading file 000012.jpg\n",
            "2020-08-26 06:05:23,335 - INFO - downloader - skip downloading file 000013.jpg\n",
            "2020-08-26 06:05:23,343 - INFO - downloader - skip downloading file 000014.jpg\n",
            "2020-08-26 06:05:23,349 - INFO - downloader - skip downloading file 000015.jpg\n",
            "2020-08-26 06:05:23,352 - INFO - downloader - skip downloading file 000016.jpg\n",
            "2020-08-26 06:05:23,353 - INFO - downloader - skip downloading file 000017.jpg\n",
            "2020-08-26 06:05:23,354 - INFO - downloader - skip downloading file 000018.jpg\n",
            "2020-08-26 06:05:23,356 - INFO - downloader - skip downloading file 000019.jpg\n",
            "2020-08-26 06:05:23,357 - INFO - downloader - skip downloading file 000020.jpg\n",
            "2020-08-26 06:05:23,391 - INFO - downloader - downloaded images reach max num, thread downloader-001 is ready to exit\n",
            "2020-08-26 06:05:23,392 - INFO - downloader - thread downloader-001 exit\n",
            "2020-08-26 06:05:24,072 - INFO - icrawler.crawler - Crawling task done!\n"
          ],
          "name": "stderr"
        }
      ]
    }
  ]
}
